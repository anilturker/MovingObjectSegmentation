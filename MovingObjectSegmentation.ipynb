{
  "cells": [
    {
      "cell_type": "markdown",
      "metadata": {
        "id": "view-in-github",
        "colab_type": "text"
      },
      "source": [
        "<a href=\"https://colab.research.google.com/github/anilturker/MovingObjectSegmentation/blob/main/MovingObjectSegmentation.ipynb\" target=\"_parent\"><img src=\"https://colab.research.google.com/assets/colab-badge.svg\" alt=\"Open In Colab\"/></a>"
      ]
    },
    {
      "cell_type": "code",
      "source": [
        "from google.colab import drive\n",
        "drive.mount('/content/drive')"
      ],
      "metadata": {
        "colab": {
          "base_uri": "https://localhost:8080/"
        },
        "id": "HCo9SllcqKys",
        "outputId": "e4e6e4ea-64c1-4ac4-ed32-75474f2d0169"
      },
      "execution_count": 1,
      "outputs": [
        {
          "output_type": "stream",
          "name": "stdout",
          "text": [
            "Mounted at /content/drive\n"
          ]
        }
      ]
    },
    {
      "cell_type": "code",
      "source": [
        "import torch\n",
        "gpu_is_available = torch.cuda.is_available()\n",
        "torch.cuda.get_device_name(0)"
      ],
      "metadata": {
        "colab": {
          "base_uri": "https://localhost:8080/",
          "height": 35
        },
        "id": "F70CKx1Iq34r",
        "outputId": "a002cee1-5e7e-4774-d71d-a9f6e62c2e2d"
      },
      "execution_count": 2,
      "outputs": [
        {
          "output_type": "execute_result",
          "data": {
            "text/plain": [
              "'Tesla P100-PCIE-16GB'"
            ],
            "application/vnd.google.colaboratory.intrinsic+json": {
              "type": "string"
            }
          },
          "metadata": {},
          "execution_count": 2
        }
      ]
    },
    {
      "cell_type": "code",
      "source": [
        "# Dowload movingObjectSegmentation repository from the Github\n",
        "!git clone https://github.com/anilturker/MovingObjectSegmentation.git\n",
        "\n",
        "# Get checkpoints and saved weights from drive\n",
        "!cp -rf /content/drive/MyDrive/results/saved_models /content/MovingObjectSegmentation/"
      ],
      "metadata": {
        "colab": {
          "base_uri": "https://localhost:8080/"
        },
        "id": "bZ-rZhaVrBso",
        "outputId": "df3f0b6c-fd64-4a9b-fddf-555e6968d054"
      },
      "execution_count": 4,
      "outputs": [
        {
          "output_type": "stream",
          "name": "stdout",
          "text": [
            "fatal: destination path 'MovingObjectSegmentation' already exists and is not an empty directory.\n",
            "^C\n"
          ]
        }
      ]
    },
    {
      "cell_type": "code",
      "source": [
        "# Extract drive files to colab directory\n",
        "import os\n",
        "import time\n",
        "import zipfile\n",
        "start_time = time.time()\n",
        "\n",
        "currentFrameDrivePath = '/content/drive/MyDrive/dataset/currentFr.zip'\n",
        "currentFrameFpmDrivePath = '/content/drive/MyDrive/dataset/currentFrFpm.zip'\n",
        "emptyBgDrivePath = '/content/drive/MyDrive/dataset/emptyBg.zip'\n",
        "emptyBgFpmDrivePath = '/content/drive/MyDrive/dataset/emptyBgFpm.zip'\n",
        "recentBgDrivePath = '/content/drive/MyDrive/dataset/recentBg.zip'\n",
        "recentBgFpmDrivePath = '/content/drive/MyDrive/dataset/recentBgFpm.zip'\n",
        "fluxTensorDrivePath = '/content/drive/MyDrive/dataset/fluxTensor.zip'\n",
        "\n",
        "if not os.path.exists('/content/MovingObjectSegmentation/dataset/currentFr'):\n",
        "  with zipfile.ZipFile(currentFrameDrivePath, 'r') as zip_ref:\n",
        "    zip_ref.extractall('/content/MovingObjectSegmentation/dataset/')\n",
        "if not os.path.exists('/content/MovingObjectSegmentation/dataset/currentFrFpm'):\n",
        "  with zipfile.ZipFile(currentFrameFpmDrivePath, 'r') as zip_ref:\n",
        "    zip_ref.extractall('/content/MovingObjectSegmentation/dataset/')\n",
        "if not os.path.exists('/content/MovingObjectSegmentation/dataset/emptyBg'):\n",
        "  with zipfile.ZipFile(emptyBgDrivePath, 'r') as zip_ref:\n",
        "    zip_ref.extractall('/content/MovingObjectSegmentation/dataset/')\n",
        "if not os.path.exists('/content/MovingObjectSegmentation/dataset/emptyBgFpm'):\n",
        "  with zipfile.ZipFile(emptyBgFpmDrivePath, 'r') as zip_ref:\n",
        "    zip_ref.extractall('/content/MovingObjectSegmentation/dataset/')\n",
        "if not os.path.exists('/content/MovingObjectSegmentation/dataset/recentBg'):\n",
        "  with zipfile.ZipFile(recentBgDrivePath, 'r') as zip_ref:\n",
        "    zip_ref.extractall('/content/MovingObjectSegmentation/dataset/')\n",
        "if not os.path.exists('/content/MovingObjectSegmentation/dataset/recentBgFpm'):\n",
        "  with zipfile.ZipFile(recentBgFpmDrivePath, 'r') as zip_ref:\n",
        "    zip_ref.extractall('/content/MovingObjectSegmentation/dataset/')\n",
        "if not os.path.exists('/content/MovingObjectSegmentation/dataset/fluxTensor'):\n",
        "  with zipfile.ZipFile(fluxTensorDrivePath, 'r') as zip_ref:\n",
        "    zip_ref.extractall('/content/MovingObjectSegmentation/dataset/')\n",
        "    \n",
        "print(\"Extracting time --- %s seconds ---\" % (time.time() - start_time))"
      ],
      "metadata": {
        "colab": {
          "base_uri": "https://localhost:8080/"
        },
        "id": "TkzqbPdGrgJW",
        "outputId": "455106a7-57a4-4c46-8919-451c6a25ddd2"
      },
      "execution_count": 5,
      "outputs": [
        {
          "output_type": "stream",
          "name": "stdout",
          "text": [
            "Extracting time --- 408.3904206752777 seconds ---\n"
          ]
        }
      ]
    },
    {
      "cell_type": "code",
      "source": [
        "%%shell\n",
        "phase=Train\n",
        "# Install required library\n",
        "cd /content/MovingObjectSegmentation\n",
        "pip install -r requirements.txt\n",
        "# Train\n",
        "if [ $phase == \"Train\" ]\n",
        "then\n",
        "  echo \"Training is started\"\n",
        "  # Run the model\n",
        "  epoch_count=77\n",
        "  while true\n",
        "  do\n",
        "    python train.py --network 'unetvgg16' --temporal_network 'avfeat_v2' --loss 'jaccard' --opt 'adam' --batch_size 24 --use_selected 200 --model_chk 1 --patch_frame_size 0 --empty_bg 'no' --recent_bg 0 --seg_ch 0 --flux_ch 1 --current_fr 1 --set_number 5 --num_epochs  $epoch_count --inp_size 224 --lr 0.0001\n",
        "    # Save the results to drive\n",
        "    cp -rf tb_runs/* /content/drive/MyDrive/results/tb_runs\n",
        "    cp -rf saved_models/* /content/drive/MyDrive/results/saved_models\n",
        "    cp -rf *.csv /content/drive/MyDrive/results/\n",
        "    ((epoch_count=epoch_count+1))\n",
        "  done\n",
        "# Inference\n",
        "else\n",
        "  echo \"Inference is started\"\n",
        "  python inference.py --network 'unetvgg16' --temporal_network 'avfeat' --patch_frame_size 0 --empty_bg 'no' --recent_bg 0 --seg_ch 0 --flux_ch 0 --current_fr 0 --set_number 5\n",
        "  cp -rf saved_models/* /content/drive/MyDrive/results/saved_models\n",
        "  cp -rf *.csv /content/drive/MyDrive/results/\n",
        "fi"
      ],
      "metadata": {
        "colab": {
          "base_uri": "https://localhost:8080/"
        },
        "id": "cc64RQObrxFp",
        "outputId": "c52990d5-4720-4f4f-e4f4-68f7a9c0dd44"
      },
      "execution_count": null,
      "outputs": [
        {
          "output_type": "stream",
          "name": "stdout",
          "text": [
            "Looking in indexes: https://pypi.org/simple, https://us-python.pkg.dev/colab-wheels/public/simple/\n",
            "Requirement already satisfied: matplotlib>=3.2.2 in /usr/local/lib/python3.7/dist-packages (from -r requirements.txt (line 1)) (3.2.2)\n",
            "Requirement already satisfied: numpy>=1.17.0 in /usr/local/lib/python3.7/dist-packages (from -r requirements.txt (line 2)) (1.21.6)\n",
            "Requirement already satisfied: pandas>=1.1.3 in /usr/local/lib/python3.7/dist-packages (from -r requirements.txt (line 3)) (1.3.5)\n",
            "Requirement already satisfied: torchvision>=0.8.2 in /usr/local/lib/python3.7/dist-packages (from -r requirements.txt (line 4)) (0.13.0+cu113)\n",
            "Requirement already satisfied: tensorboardx>=2.4 in /usr/local/lib/python3.7/dist-packages (from -r requirements.txt (line 5)) (2.5.1)\n",
            "Requirement already satisfied: pyparsing!=2.0.4,!=2.1.2,!=2.1.6,>=2.0.1 in /usr/local/lib/python3.7/dist-packages (from matplotlib>=3.2.2->-r requirements.txt (line 1)) (3.0.9)\n",
            "Requirement already satisfied: kiwisolver>=1.0.1 in /usr/local/lib/python3.7/dist-packages (from matplotlib>=3.2.2->-r requirements.txt (line 1)) (1.4.4)\n",
            "Requirement already satisfied: cycler>=0.10 in /usr/local/lib/python3.7/dist-packages (from matplotlib>=3.2.2->-r requirements.txt (line 1)) (0.11.0)\n",
            "Requirement already satisfied: python-dateutil>=2.1 in /usr/local/lib/python3.7/dist-packages (from matplotlib>=3.2.2->-r requirements.txt (line 1)) (2.8.2)\n",
            "Requirement already satisfied: pytz>=2017.3 in /usr/local/lib/python3.7/dist-packages (from pandas>=1.1.3->-r requirements.txt (line 3)) (2022.1)\n",
            "Requirement already satisfied: requests in /usr/local/lib/python3.7/dist-packages (from torchvision>=0.8.2->-r requirements.txt (line 4)) (2.23.0)\n",
            "Requirement already satisfied: torch==1.12.0 in /usr/local/lib/python3.7/dist-packages (from torchvision>=0.8.2->-r requirements.txt (line 4)) (1.12.0+cu113)\n",
            "Requirement already satisfied: typing-extensions in /usr/local/lib/python3.7/dist-packages (from torchvision>=0.8.2->-r requirements.txt (line 4)) (4.1.1)\n",
            "Requirement already satisfied: pillow!=8.3.*,>=5.3.0 in /usr/local/lib/python3.7/dist-packages (from torchvision>=0.8.2->-r requirements.txt (line 4)) (7.1.2)\n",
            "Requirement already satisfied: protobuf<=3.20.1,>=3.8.0 in /usr/local/lib/python3.7/dist-packages (from tensorboardx>=2.4->-r requirements.txt (line 5)) (3.17.3)\n",
            "Requirement already satisfied: six>=1.9 in /usr/local/lib/python3.7/dist-packages (from protobuf<=3.20.1,>=3.8.0->tensorboardx>=2.4->-r requirements.txt (line 5)) (1.15.0)\n",
            "Requirement already satisfied: idna<3,>=2.5 in /usr/local/lib/python3.7/dist-packages (from requests->torchvision>=0.8.2->-r requirements.txt (line 4)) (2.10)\n",
            "Requirement already satisfied: certifi>=2017.4.17 in /usr/local/lib/python3.7/dist-packages (from requests->torchvision>=0.8.2->-r requirements.txt (line 4)) (2022.6.15)\n",
            "Requirement already satisfied: urllib3!=1.25.0,!=1.25.1,<1.26,>=1.21.1 in /usr/local/lib/python3.7/dist-packages (from requests->torchvision>=0.8.2->-r requirements.txt (line 4)) (1.24.3)\n",
            "Requirement already satisfied: chardet<4,>=3.0.2 in /usr/local/lib/python3.7/dist-packages (from requests->torchvision>=0.8.2->-r requirements.txt (line 4)) (3.0.4)\n",
            "Training is started\n",
            "Model started: MOS-Net_fusion_net_unetvgg16_temporal_net_no_inp_selection_00011_patch_last_frames_0\n",
            "Initialized TB\n",
            "=> loading checkpoint '1'\n",
            "=> loaded checkpoint '1' (epoch 76)\n",
            "::Train::[77,   100] loss: 5.430, prec: 0.979, recall: 0.969, f_score: 0.974\n",
            "::Train::[77,   200] loss: 5.176, prec: 0.979, recall: 0.971, f_score: 0.975\n",
            "::Train::[77,   300] loss: 5.225, prec: 0.979, recall: 0.971, f_score: 0.975\n",
            "::Train:: Epoch 77 loss: 5.164, prec: 0.979, recall: 0.971, f_score: 0.975, lr : 0.000100, elapsed time: 229.5374083518982\n",
            "::Test::[77,   100] loss: 46.863, prec: 0.503, recall: 0.780, f_score: 0.612\n",
            "::Test::[77,   200] loss: 48.106, prec: 0.507, recall: 0.786, f_score: 0.616\n",
            "::Test::[77,   300] loss: 48.412, prec: 0.487, recall: 0.776, f_score: 0.598\n",
            "::Test::[77,   400] loss: 49.702, prec: 0.487, recall: 0.775, f_score: 0.598\n",
            "::Test::[77,   500] loss: 49.018, prec: 0.484, recall: 0.782, f_score: 0.598\n",
            "::Test::[77,   600] loss: 48.986, prec: 0.493, recall: 0.786, f_score: 0.606\n",
            "::Test::[77,   700] loss: 49.128, prec: 0.491, recall: 0.781, f_score: 0.603\n",
            "::Test::[77,   800] loss: 49.766, prec: 0.479, recall: 0.776, f_score: 0.592\n",
            "::Test::[77,   900] loss: 49.783, prec: 0.476, recall: 0.774, f_score: 0.589\n",
            "::Test::[77,  1000] loss: 50.027, prec: 0.475, recall: 0.769, f_score: 0.587\n",
            "::Test::[77,  1100] loss: 50.353, prec: 0.472, recall: 0.768, f_score: 0.585\n",
            "::Test::[77,  1200] loss: 50.316, prec: 0.475, recall: 0.768, f_score: 0.587\n",
            "::Test::[77,  1300] loss: 50.181, prec: 0.481, recall: 0.769, f_score: 0.592\n",
            "::Test::[77,  1400] loss: 50.073, prec: 0.481, recall: 0.771, f_score: 0.593\n",
            "::Test::[77,  1500] loss: 49.974, prec: 0.482, recall: 0.771, f_score: 0.594\n",
            "::Test::[77,  1600] loss: 50.150, prec: 0.483, recall: 0.769, f_score: 0.594\n",
            "::Test::[77,  1700] loss: 50.269, prec: 0.486, recall: 0.766, f_score: 0.595\n",
            "::Test::[77,  1800] loss: 50.241, prec: 0.490, recall: 0.761, f_score: 0.596\n",
            "::Test::[77,  1900] loss: 50.171, prec: 0.486, recall: 0.763, f_score: 0.594\n",
            "::Test::[77,  2000] loss: 50.348, prec: 0.479, recall: 0.764, f_score: 0.589\n",
            "::Test:: Epoch 77 loss: 50.348, prec: 0.479, recall: 0.764, f_score: 0.589, lr : 0.000100, elapsed time: 72.89063096046448\n",
            "Finished Training\n",
            "Model started: MOS-Net_fusion_net_unetvgg16_temporal_net_no_inp_selection_00011_patch_last_frames_0\n",
            "Initialized TB\n",
            "=> loading checkpoint '1'\n",
            "=> loaded checkpoint '1' (epoch 77)\n",
            "::Train::[78,   100] loss: 4.472, prec: 0.982, recall: 0.974, f_score: 0.978\n",
            "::Train::[78,   200] loss: 4.718, prec: 0.982, recall: 0.973, f_score: 0.977\n",
            "::Train::[78,   300] loss: 4.787, prec: 0.981, recall: 0.973, f_score: 0.977\n",
            "::Train:: Epoch 78 loss: 4.772, prec: 0.981, recall: 0.973, f_score: 0.977, lr : 0.000100, elapsed time: 230.64093732833862\n",
            "::Test::[78,   100] loss: 50.884, prec: 0.502, recall: 0.744, f_score: 0.600\n",
            "::Test::[78,   200] loss: 48.253, prec: 0.515, recall: 0.774, f_score: 0.619\n",
            "::Test::[78,   300] loss: 49.842, prec: 0.530, recall: 0.781, f_score: 0.631\n",
            "::Test::[78,   400] loss: 48.012, prec: 0.541, recall: 0.772, f_score: 0.636\n",
            "::Test::[78,   500] loss: 49.730, prec: 0.503, recall: 0.776, f_score: 0.610\n",
            "::Test::[78,   600] loss: 49.537, prec: 0.490, recall: 0.780, f_score: 0.602\n",
            "::Test::[78,   700] loss: 49.868, prec: 0.489, recall: 0.780, f_score: 0.601\n",
            "::Test::[78,   800] loss: 49.899, prec: 0.492, recall: 0.780, f_score: 0.603\n",
            "::Test::[78,   900] loss: 49.976, prec: 0.491, recall: 0.775, f_score: 0.601\n",
            "::Test::[78,  1000] loss: 49.278, prec: 0.504, recall: 0.779, f_score: 0.612\n",
            "::Test::[78,  1100] loss: 49.332, prec: 0.506, recall: 0.776, f_score: 0.613\n",
            "::Test::[78,  1200] loss: 49.494, prec: 0.507, recall: 0.777, f_score: 0.613\n",
            "::Test::[78,  1300] loss: 49.535, prec: 0.504, recall: 0.775, f_score: 0.611\n",
            "::Test::[78,  1400] loss: 49.367, prec: 0.507, recall: 0.776, f_score: 0.613\n",
            "::Test::[78,  1500] loss: 49.585, prec: 0.503, recall: 0.773, f_score: 0.610\n",
            "::Test::[78,  1600] loss: 49.308, prec: 0.504, recall: 0.772, f_score: 0.610\n",
            "::Test::[78,  1700] loss: 49.363, prec: 0.503, recall: 0.770, f_score: 0.608\n",
            "::Test::[78,  1800] loss: 48.904, prec: 0.510, recall: 0.774, f_score: 0.615\n",
            "::Test::[78,  1900] loss: 48.590, prec: 0.517, recall: 0.772, f_score: 0.619\n",
            "::Test::[78,  2000] loss: 48.442, prec: 0.520, recall: 0.772, f_score: 0.621\n",
            "::Test:: Epoch 78 loss: 48.442, prec: 0.520, recall: 0.772, f_score: 0.621, lr : 0.000100, elapsed time: 73.77210736274719\n",
            "Finished Training\n",
            "Model started: MOS-Net_fusion_net_unetvgg16_temporal_net_no_inp_selection_00011_patch_last_frames_0\n",
            "Initialized TB\n",
            "=> loading checkpoint '1'\n",
            "=> loaded checkpoint '1' (epoch 78)\n",
            "::Train::[79,   100] loss: 4.876, prec: 0.981, recall: 0.972, f_score: 0.977\n",
            "::Train::[79,   200] loss: 4.645, prec: 0.981, recall: 0.973, f_score: 0.977\n",
            "::Train::[79,   300] loss: 4.745, prec: 0.982, recall: 0.973, f_score: 0.977\n",
            "::Train:: Epoch 79 loss: 4.714, prec: 0.982, recall: 0.973, f_score: 0.977, lr : 0.000100, elapsed time: 228.27835297584534\n",
            "::Test::[79,   100] loss: 49.909, prec: 0.551, recall: 0.753, f_score: 0.636\n",
            "::Test::[79,   200] loss: 47.616, prec: 0.579, recall: 0.752, f_score: 0.654\n",
            "::Test::[79,   300] loss: 47.226, prec: 0.584, recall: 0.761, f_score: 0.661\n"
          ]
        }
      ]
    }
  ],
  "metadata": {
    "colab": {
      "collapsed_sections": [],
      "name": "Making the Most of your Colab Subscription",
      "provenance": [],
      "include_colab_link": true
    },
    "kernelspec": {
      "display_name": "Python 3",
      "name": "python3"
    },
    "accelerator": "GPU",
    "gpuClass": "standard"
  },
  "nbformat": 4,
  "nbformat_minor": 0
}
