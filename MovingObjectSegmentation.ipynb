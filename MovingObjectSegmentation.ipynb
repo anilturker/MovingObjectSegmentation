{
  "cells": [
    {
      "cell_type": "code",
      "execution_count": null,
      "metadata": {
        "colab": {
          "base_uri": "https://localhost:8080/"
        },
        "id": "pZzYAoJTYt6d",
        "outputId": "48b84946-2bc3-45b4-a38d-ebbebb5b5477"
      },
      "outputs": [
        {
          "output_type": "stream",
          "name": "stdout",
          "text": [
            "Mounted at /content/drive\n"
          ]
        }
      ],
      "source": [
        "# Mount google drive\n",
        "from google.colab import drive\n",
        "drive.mount('/content/drive')"
      ]
    },
    {
      "cell_type": "code",
      "execution_count": null,
      "metadata": {
        "colab": {
          "base_uri": "https://localhost:8080/",
          "height": 345
        },
        "id": "dmmezsuYYxFB",
        "outputId": "3b196857-5a01-4bd4-c4e7-273cbf8ca5a3"
      },
      "outputs": [
        {
          "output_type": "error",
          "ename": "RuntimeError",
          "evalue": "ignored",
          "traceback": [
            "\u001b[0;31m---------------------------------------------------------------------------\u001b[0m",
            "\u001b[0;31mRuntimeError\u001b[0m                              Traceback (most recent call last)",
            "\u001b[0;32m<ipython-input-2-5c6adcda9f94>\u001b[0m in \u001b[0;36m<module>\u001b[0;34m()\u001b[0m\n\u001b[1;32m      2\u001b[0m \u001b[0;34m\u001b[0m\u001b[0m\n\u001b[1;32m      3\u001b[0m \u001b[0mgpu_is_available\u001b[0m \u001b[0;34m=\u001b[0m \u001b[0mtorch\u001b[0m\u001b[0;34m.\u001b[0m\u001b[0mcuda\u001b[0m\u001b[0;34m.\u001b[0m\u001b[0mis_available\u001b[0m\u001b[0;34m(\u001b[0m\u001b[0;34m)\u001b[0m\u001b[0;34m\u001b[0m\u001b[0;34m\u001b[0m\u001b[0m\n\u001b[0;32m----> 4\u001b[0;31m \u001b[0mtorch\u001b[0m\u001b[0;34m.\u001b[0m\u001b[0mcuda\u001b[0m\u001b[0;34m.\u001b[0m\u001b[0mget_device_name\u001b[0m\u001b[0;34m(\u001b[0m\u001b[0;36m0\u001b[0m\u001b[0;34m)\u001b[0m\u001b[0;34m\u001b[0m\u001b[0;34m\u001b[0m\u001b[0m\n\u001b[0m",
            "\u001b[0;32m/usr/local/lib/python3.7/dist-packages/torch/cuda/__init__.py\u001b[0m in \u001b[0;36mget_device_name\u001b[0;34m(device)\u001b[0m\n\u001b[1;32m    324\u001b[0m         \u001b[0mstr\u001b[0m\u001b[0;34m:\u001b[0m \u001b[0mthe\u001b[0m \u001b[0mname\u001b[0m \u001b[0mof\u001b[0m \u001b[0mthe\u001b[0m \u001b[0mdevice\u001b[0m\u001b[0;34m\u001b[0m\u001b[0;34m\u001b[0m\u001b[0m\n\u001b[1;32m    325\u001b[0m     \"\"\"\n\u001b[0;32m--> 326\u001b[0;31m     \u001b[0;32mreturn\u001b[0m \u001b[0mget_device_properties\u001b[0m\u001b[0;34m(\u001b[0m\u001b[0mdevice\u001b[0m\u001b[0;34m)\u001b[0m\u001b[0;34m.\u001b[0m\u001b[0mname\u001b[0m\u001b[0;34m\u001b[0m\u001b[0;34m\u001b[0m\u001b[0m\n\u001b[0m\u001b[1;32m    327\u001b[0m \u001b[0;34m\u001b[0m\u001b[0m\n\u001b[1;32m    328\u001b[0m \u001b[0;34m\u001b[0m\u001b[0m\n",
            "\u001b[0;32m/usr/local/lib/python3.7/dist-packages/torch/cuda/__init__.py\u001b[0m in \u001b[0;36mget_device_properties\u001b[0;34m(device)\u001b[0m\n\u001b[1;32m    354\u001b[0m         \u001b[0m_CudaDeviceProperties\u001b[0m\u001b[0;34m:\u001b[0m \u001b[0mthe\u001b[0m \u001b[0mproperties\u001b[0m \u001b[0mof\u001b[0m \u001b[0mthe\u001b[0m \u001b[0mdevice\u001b[0m\u001b[0;34m\u001b[0m\u001b[0;34m\u001b[0m\u001b[0m\n\u001b[1;32m    355\u001b[0m     \"\"\"\n\u001b[0;32m--> 356\u001b[0;31m     \u001b[0m_lazy_init\u001b[0m\u001b[0;34m(\u001b[0m\u001b[0;34m)\u001b[0m  \u001b[0;31m# will define _get_device_properties\u001b[0m\u001b[0;34m\u001b[0m\u001b[0;34m\u001b[0m\u001b[0m\n\u001b[0m\u001b[1;32m    357\u001b[0m     \u001b[0mdevice\u001b[0m \u001b[0;34m=\u001b[0m \u001b[0m_get_device_index\u001b[0m\u001b[0;34m(\u001b[0m\u001b[0mdevice\u001b[0m\u001b[0;34m,\u001b[0m \u001b[0moptional\u001b[0m\u001b[0;34m=\u001b[0m\u001b[0;32mTrue\u001b[0m\u001b[0;34m)\u001b[0m\u001b[0;34m\u001b[0m\u001b[0;34m\u001b[0m\u001b[0m\n\u001b[1;32m    358\u001b[0m     \u001b[0;32mif\u001b[0m \u001b[0mdevice\u001b[0m \u001b[0;34m<\u001b[0m \u001b[0;36m0\u001b[0m \u001b[0;32mor\u001b[0m \u001b[0mdevice\u001b[0m \u001b[0;34m>=\u001b[0m \u001b[0mdevice_count\u001b[0m\u001b[0;34m(\u001b[0m\u001b[0;34m)\u001b[0m\u001b[0;34m:\u001b[0m\u001b[0;34m\u001b[0m\u001b[0;34m\u001b[0m\u001b[0m\n",
            "\u001b[0;32m/usr/local/lib/python3.7/dist-packages/torch/cuda/__init__.py\u001b[0m in \u001b[0;36m_lazy_init\u001b[0;34m()\u001b[0m\n\u001b[1;32m    212\u001b[0m         \u001b[0;31m# This function throws if there's a driver initialization error, no GPUs\u001b[0m\u001b[0;34m\u001b[0m\u001b[0;34m\u001b[0m\u001b[0;34m\u001b[0m\u001b[0m\n\u001b[1;32m    213\u001b[0m         \u001b[0;31m# are found or any other error occurs\u001b[0m\u001b[0;34m\u001b[0m\u001b[0;34m\u001b[0m\u001b[0;34m\u001b[0m\u001b[0m\n\u001b[0;32m--> 214\u001b[0;31m         \u001b[0mtorch\u001b[0m\u001b[0;34m.\u001b[0m\u001b[0m_C\u001b[0m\u001b[0;34m.\u001b[0m\u001b[0m_cuda_init\u001b[0m\u001b[0;34m(\u001b[0m\u001b[0;34m)\u001b[0m\u001b[0;34m\u001b[0m\u001b[0;34m\u001b[0m\u001b[0m\n\u001b[0m\u001b[1;32m    215\u001b[0m         \u001b[0;31m# Some of the queued calls may reentrantly call _lazy_init();\u001b[0m\u001b[0;34m\u001b[0m\u001b[0;34m\u001b[0m\u001b[0;34m\u001b[0m\u001b[0m\n\u001b[1;32m    216\u001b[0m         \u001b[0;31m# we need to just return without initializing in that case.\u001b[0m\u001b[0;34m\u001b[0m\u001b[0;34m\u001b[0m\u001b[0;34m\u001b[0m\u001b[0m\n",
            "\u001b[0;31mRuntimeError\u001b[0m: No CUDA GPUs are available"
          ]
        }
      ],
      "source": [
        "import torch\n",
        "\n",
        "gpu_is_available = torch.cuda.is_available()\n",
        "torch.cuda.get_device_name(0)"
      ]
    },
    {
      "cell_type": "code",
      "execution_count": null,
      "metadata": {
        "id": "ciRhfTRwYy8g"
      },
      "outputs": [],
      "source": [
        "# Dowload movingObjectSegmentation repository from the Github\n",
        "!git clone \"https://github.com/anilturker/MovingObjectSegmentation\"\n",
        "\n",
        "# Get checkpoints and saved weights from drive\n",
        "!cp -rf /content/drive/MyDrive/results/* /content/MovingObjectSegmentation/"
      ]
    },
    {
      "cell_type": "code",
      "execution_count": null,
      "metadata": {
        "id": "KLAVUrH5Yzg5"
      },
      "outputs": [],
      "source": [
        "# Extract drive files to colab directory\n",
        "import os\n",
        "import time\n",
        "import zipfile\n",
        "\n",
        "start_time = time.time()\n",
        "\n",
        "currentFrameDrivePath = '/content/drive/MyDrive/dataset/currentFr.zip'\n",
        "currentFrameFpmDrivePath = '/content/drive/MyDrive/dataset/currentFrFpm.zip' \n",
        "emptyBgDrivePath = '/content/drive/MyDrive/dataset/emptyBg.zip'\n",
        "emptyBgFpmDrivePath = '/content/drive/MyDrive/dataset/emptyBgFpm.zip' \n",
        "recentBgDrivePath = '/content/drive/MyDrive/dataset/recentBg.zip'\n",
        "recentBgFpmDrivePath = '/content/drive/MyDrive/dataset/recentBgFpm.zip' \n",
        "fluxTensorDrivePath = '/content/drive/MyDrive/dataset/fluxTensor.zip'\n",
        "\n",
        "if not os.path.exists('/content/MovingObjectSegmentation/dataset/currentFr'):\n",
        "  with zipfile.ZipFile(currentFrameDrivePath, 'r') as zip_ref:\n",
        "    zip_ref.extractall('/content/MovingObjectSegmentation/dataset/')\n",
        "if not os.path.exists('/content/MovingObjectSegmentation/dataset/currentFrFpm'):\n",
        "  with zipfile.ZipFile(currentFrameFpmDrivePath, 'r') as zip_ref:\n",
        "    zip_ref.extractall('/content/MovingObjectSegmentation/dataset/')\n",
        "if not os.path.exists('/content/MovingObjectSegmentation/dataset/emptyBg'):\n",
        "  with zipfile.ZipFile(emptyBgDrivePath, 'r') as zip_ref:\n",
        "    zip_ref.extractall('/content/MovingObjectSegmentation/dataset/')\n",
        "if not os.path.exists('/content/MovingObjectSegmentation/dataset/emptyBgFpm'):\n",
        "  with zipfile.ZipFile(emptyBgFpmDrivePath, 'r') as zip_ref:\n",
        "    zip_ref.extractall('/content/MovingObjectSegmentation/dataset/')\n",
        "if not os.path.exists('/content/MovingObjectSegmentation/dataset/recentBg'):\n",
        "  with zipfile.ZipFile(recentBgDrivePath, 'r') as zip_ref:\n",
        "    zip_ref.extractall('/content/MovingObjectSegmentation/dataset/')\n",
        "if not os.path.exists('/content/MovingObjectSegmentation/dataset/recentBgFpm'):\n",
        "  with zipfile.ZipFile(recentBgFpmDrivePath, 'r') as zip_ref:\n",
        "    zip_ref.extractall('/content/MovingObjectSegmentation/dataset/')\n",
        "if not os.path.exists('/content/MovingObjectSegmentation/dataset/fluxTensor'):\n",
        "  with zipfile.ZipFile(fluxTensorDrivePath, 'r') as zip_ref:\n",
        "    zip_ref.extractall('/content/MovingObjectSegmentation/dataset/')\n",
        "\n",
        "\n",
        "print(\"Extracting time --- %s seconds ---\" % (time.time() - start_time))"
      ]
    },
    {
      "cell_type": "code",
      "execution_count": null,
      "metadata": {
        "id": "YOsHR6-iSU5S"
      },
      "outputs": [],
      "source": [
        "%%shell\n",
        " \n",
        "\n",
        "# Install required library\n",
        "cd /content/MovingObjectSegmentation\n",
        "pip install -r requirements.txt\n",
        "\n",
        "# Run the model\n",
        "epoch_count=116\n",
        "while true\n",
        "do\n",
        "  python train.py --network 'unetvgg16' --temporal_network 'avfeat_fpm' --loss 'jaccard' --opt 'adam' --batch_size 12 --use_selected 200 --model_chk 1 --patch_frame_size 0 --empty_bg 'no' --recent_bg 0 --seg_ch 0 --flux_ch 0 --current_fr 0 --set_number 5 --num_epochs  $epoch_count --inp_size 224 --lr 0.00002\n",
        "\n",
        "  # Save the results to drive\n",
        "  cp -rf tb_runs/* /content/drive/MyDrive/results/tb_runs\n",
        "  cp -rf saved_models/* /content/drive/MyDrive/results/saved_models\n",
        "  cp -rf *.csv /content/drive/MyDrive/results/\n",
        "\n",
        "  ((epoch_count=epoch_count+1))\n",
        "done\n"
      ]
    },
    {
      "cell_type": "code",
      "execution_count": null,
      "metadata": {
        "id": "YprtNPB2zwXF"
      },
      "outputs": [],
      "source": [
        ""
      ]
    }
  ],
  "metadata": {
    "accelerator": "GPU",
    "colab": {
      "collapsed_sections": [],
      "name": "MovingObjectSegmentation.ipynb",
      "provenance": []
    },
    "kernelspec": {
      "display_name": "Python 3",
      "name": "python3"
    },
    "language_info": {
      "name": "python"
    }
  },
  "nbformat": 4,
  "nbformat_minor": 0
}