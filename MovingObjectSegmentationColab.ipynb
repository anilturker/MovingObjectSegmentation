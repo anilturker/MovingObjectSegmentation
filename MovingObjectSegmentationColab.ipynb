{
  "cells": [
    {
      "cell_type": "markdown",
      "metadata": {
        "id": "view-in-github",
        "colab_type": "text"
      },
      "source": [
        "<a href=\"https://colab.research.google.com/github/anilturker/MovingObjectSegmentation/blob/main/MovingObjectSegmentationColab.ipynb\" target=\"_parent\"><img src=\"https://colab.research.google.com/assets/colab-badge.svg\" alt=\"Open In Colab\"/></a>"
      ]
    },
    {
      "cell_type": "code",
      "source": [
        "from google.colab import drive\n",
        "drive.mount('/content/drive')"
      ],
      "metadata": {
        "id": "HCo9SllcqKys",
        "outputId": "e4e6e4ea-64c1-4ac4-ed32-75474f2d0169",
        "colab": {
          "base_uri": "https://localhost:8080/"
        }
      },
      "execution_count": 1,
      "outputs": [
        {
          "output_type": "stream",
          "name": "stdout",
          "text": [
            "Mounted at /content/drive\n"
          ]
        }
      ]
    },
    {
      "cell_type": "code",
      "source": [
        "import torch\n",
        "gpu_is_available = torch.cuda.is_available()\n",
        "torch.cuda.get_device_name(0)"
      ],
      "metadata": {
        "id": "F70CKx1Iq34r",
        "outputId": "a002cee1-5e7e-4774-d71d-a9f6e62c2e2d",
        "colab": {
          "base_uri": "https://localhost:8080/",
          "height": 35
        }
      },
      "execution_count": 2,
      "outputs": [
        {
          "output_type": "execute_result",
          "data": {
            "text/plain": [
              "'Tesla P100-PCIE-16GB'"
            ],
            "application/vnd.google.colaboratory.intrinsic+json": {
              "type": "string"
            }
          },
          "metadata": {},
          "execution_count": 2
        }
      ]
    },
    {
      "cell_type": "code",
      "source": [
        "# Dowload movingObjectSegmentation repository from the Github\n",
        "!git clone https://github.com/anilturker/MovingObjectSegmentation.git\n",
        "\n",
        "# Get checkpoints and saved weights from drive\n",
        "!cp -rf /content/drive/MyDrive/results/* /content/MovingObjectSegmentation/"
      ],
      "metadata": {
        "id": "bZ-rZhaVrBso",
        "outputId": "df3f0b6c-fd64-4a9b-fddf-555e6968d054",
        "colab": {
          "base_uri": "https://localhost:8080/"
        }
      },
      "execution_count": null,
      "outputs": [
        {
          "output_type": "stream",
          "name": "stdout",
          "text": [
            "fatal: destination path 'MovingObjectSegmentation' already exists and is not an empty directory.\n"
          ]
        }
      ]
    },
    {
      "cell_type": "code",
      "source": [
        "# Extract drive files to colab directory\n",
        "import os\n",
        "import time\n",
        "import zipfile\n",
        "start_time = time.time()\n",
        "\n",
        "currentFrameDrivePath = '/content/drive/MyDrive/dataset/currentFr.zip'\n",
        "currentFrameFpmDrivePath = '/content/drive/MyDrive/dataset/currentFrFpm.zip'\n",
        "emptyBgDrivePath = '/content/drive/MyDrive/dataset/emptyBg.zip'\n",
        "emptyBgFpmDrivePath = '/content/drive/MyDrive/dataset/emptyBgFpm.zip'\n",
        "recentBgDrivePath = '/content/drive/MyDrive/dataset/recentBg.zip'\n",
        "recentBgFpmDrivePath = '/content/drive/MyDrive/dataset/recentBgFpm.zip'\n",
        "fluxTensorDrivePath = '/content/drive/MyDrive/dataset/fluxTensor.zip'\n",
        "\n",
        "if not os.path.exists('/content/MovingObjectSegmentation/dataset/currentFr'):\n",
        "  with zipfile.ZipFile(currentFrameDrivePath, 'r') as zip_ref:\n",
        "    zip_ref.extractall('/content/MovingObjectSegmentation/dataset/')\n",
        "if not os.path.exists('/content/MovingObjectSegmentation/dataset/currentFrFpm'):\n",
        "  with zipfile.ZipFile(currentFrameFpmDrivePath, 'r') as zip_ref:\n",
        "    zip_ref.extractall('/content/MovingObjectSegmentation/dataset/')\n",
        "if not os.path.exists('/content/MovingObjectSegmentation/dataset/emptyBg'):\n",
        "  with zipfile.ZipFile(emptyBgDrivePath, 'r') as zip_ref:\n",
        "    zip_ref.extractall('/content/MovingObjectSegmentation/dataset/')\n",
        "if not os.path.exists('/content/MovingObjectSegmentation/dataset/emptyBgFpm'):\n",
        "  with zipfile.ZipFile(emptyBgFpmDrivePath, 'r') as zip_ref:\n",
        "    zip_ref.extractall('/content/MovingObjectSegmentation/dataset/')\n",
        "if not os.path.exists('/content/MovingObjectSegmentation/dataset/recentBg'):\n",
        "  with zipfile.ZipFile(recentBgDrivePath, 'r') as zip_ref:\n",
        "    zip_ref.extractall('/content/MovingObjectSegmentation/dataset/')\n",
        "if not os.path.exists('/content/MovingObjectSegmentation/dataset/recentBgFpm'):\n",
        "  with zipfile.ZipFile(recentBgFpmDrivePath, 'r') as zip_ref:\n",
        "    zip_ref.extractall('/content/MovingObjectSegmentation/dataset/')\n",
        "if not os.path.exists('/content/MovingObjectSegmentation/dataset/fluxTensor'):\n",
        "  with zipfile.ZipFile(fluxTensorDrivePath, 'r') as zip_ref:\n",
        "    zip_ref.extractall('/content/MovingObjectSegmentation/dataset/')\n",
        "    \n",
        "print(\"Extracting time --- %s seconds ---\" % (time.time() - start_time))"
      ],
      "metadata": {
        "id": "TkzqbPdGrgJW"
      },
      "execution_count": null,
      "outputs": []
    },
    {
      "cell_type": "code",
      "source": [
        "%%shell\n",
        "phase=Train\n",
        "# Install required library\n",
        "cd /content/MovingObjectSegmentation\n",
        "pip install -r requirements.txt\n",
        "# Train\n",
        "if [ $phase == \"Train\" ]\n",
        "then\n",
        "  echo \"Training is started\"\n",
        "  # Run the model\n",
        "  epoch_count=31\n",
        "  while true\n",
        "  do\n",
        "    python train.py --network 'unetvgg16' --temporal_network 'no' --loss 'jaccard' --opt '\n",
        "    # Save the results to drive\n",
        "    cp -rf tb_runs/* /content/drive/MyDrive/results/tb_runs\n",
        "    cp -rf saved_models/* /content/drive/MyDrive/results/saved_models\n",
        "    cp -rf *.csv /content/drive/MyDrive/results/\n",
        "    ((epoch_count=epoch_count+1))\n",
        "  done\n",
        "# Inference\n",
        "else\n",
        "  echo \"Inference is started\"\n",
        "  python inference.py --network 'unetvgg16' --temporal_network 'avfeat' --patch_frame_size\n",
        "  cp -rf saved_models/* /content/drive/MyDrive/results/saved_models\n",
        "  cp -rf *.csv /content/drive/MyDrive/results/\n",
        "fi"
      ],
      "metadata": {
        "id": "cc64RQObrxFp"
      },
      "execution_count": null,
      "outputs": []
    }
  ],
  "metadata": {
    "colab": {
      "collapsed_sections": [],
      "name": "Making the Most of your Colab Subscription",
      "provenance": [],
      "include_colab_link": true
    },
    "kernelspec": {
      "display_name": "Python 3",
      "name": "python3"
    },
    "accelerator": "GPU",
    "gpuClass": "standard"
  },
  "nbformat": 4,
  "nbformat_minor": 0
}